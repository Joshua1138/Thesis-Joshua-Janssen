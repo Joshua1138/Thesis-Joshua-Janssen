{
 "cells": [
  {
   "cell_type": "code",
   "execution_count": 1,
   "id": "772a0d27-4812-4819-b967-66993ed03ab4",
   "metadata": {},
   "outputs": [
    {
     "name": "stdout",
     "output_type": "stream",
     "text": [
      "CSV file has been split into 'first_half.csv' and 'second_half.csv'.\n"
     ]
    }
   ],
   "source": [
    "# Code used to split the test set into half to become a new test and validation set\n",
    "import pandas as pd\n",
    "\n",
    "def split_csv_file(file_path):\n",
    "    # Load the CSV file\n",
    "    df = pd.read_csv(file_path)\n",
    "    \n",
    "    # Calculate the index to split the DataFrame into two\n",
    "    split_index = len(df) // 2\n",
    "    \n",
    "    # Split the DataFrame\n",
    "    df_first_half = df[:split_index]\n",
    "    df_second_half = df[split_index:]\n",
    "    \n",
    "    # Write the DataFrames to new CSV files\n",
    "    df_first_half.to_csv('test.csv', index=False)\n",
    "    df_second_half.to_csv('val.csv', index=False)\n",
    "    print(f\"CSV file has been split into 'test.csv' and 'val.csv'.\")\n",
    "\n",
    "# Example usage\n",
    "split_csv_file('merged_test.csv')"
   ]
  }
 ],
 "metadata": {
  "kernelspec": {
   "display_name": "Python 3 (ipykernel)",
   "language": "python",
   "name": "python3"
  },
  "language_info": {
   "codemirror_mode": {
    "name": "ipython",
    "version": 3
   },
   "file_extension": ".py",
   "mimetype": "text/x-python",
   "name": "python",
   "nbconvert_exporter": "python",
   "pygments_lexer": "ipython3",
   "version": "3.9.7"
  }
 },
 "nbformat": 4,
 "nbformat_minor": 5
}
