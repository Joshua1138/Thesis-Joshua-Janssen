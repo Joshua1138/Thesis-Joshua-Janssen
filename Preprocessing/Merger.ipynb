{
 "cells": [
  {
   "cell_type": "code",
   "execution_count": 2,
   "id": "5ba83773-c997-4643-8722-b36d59271441",
   "metadata": {},
   "outputs": [],
   "source": [
    "# Code used to merge the 4 preprocessed dataset into 1 large dataset\n",
    "import pandas as pd\n",
    "\n",
    "# Read each CSV file into a pandas DataFrame\n",
    "df1 = pd.read_csv('train1.csv')\n",
    "df2 = pd.read_csv('train2.csv')\n",
    "df3 = pd.read_csv('train3.csv')\n",
    "df4 = pd.read_csv('train4.csv')\n",
    "\n",
    "dd1 = pd.read_csv('test1.csv')\n",
    "dd2 = pd.read_csv('test2.csv')\n",
    "dd3 = pd.read_csv('test3.csv')\n",
    "dd4 = pd.read_csv('test4.csv')\n",
    "\n",
    "\n",
    "# Concatenate the DataFrames vertically\n",
    "merged_df = pd.concat([df1, df2, df3, df4], ignore_index=True)\n",
    "merged_dd = pd.concat([dd1, dd2, dd3, dd4], ignore_index=True)\n",
    "\n",
    "# Write the merged DataFrame to a new CSV file\n",
    "merged_df.to_csv('merged_train.csv', index=False)\n",
    "merged_dd.to_csv('merged_test.csv', index=False)"
   ]
  }
 ],
 "metadata": {
  "kernelspec": {
   "display_name": "Python 3 (ipykernel)",
   "language": "python",
   "name": "python3"
  },
  "language_info": {
   "codemirror_mode": {
    "name": "ipython",
    "version": 3
   },
   "file_extension": ".py",
   "mimetype": "text/x-python",
   "name": "python",
   "nbconvert_exporter": "python",
   "pygments_lexer": "ipython3",
   "version": "3.9.7"
  }
 },
 "nbformat": 4,
 "nbformat_minor": 5
}
